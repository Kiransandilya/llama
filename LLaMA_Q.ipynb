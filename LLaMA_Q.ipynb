{
 "cells": [
  {
   "cell_type": "code",
   "execution_count": 1,
   "id": "ff5d0e7f",
   "metadata": {},
   "outputs": [
    {
     "name": "stdout",
     "output_type": "stream",
     "text": [
      "%pylab is deprecated, use %matplotlib inline and import the required libraries.\n",
      "Populating the interactive namespace from numpy and matplotlib\n"
     ]
    }
   ],
   "source": [
    "%pylab inline\n",
    "%load_ext autoreload\n",
    "%autoreload 2"
   ]
  },
  {
   "cell_type": "code",
   "execution_count": 2,
   "id": "47e9558e",
   "metadata": {},
   "outputs": [],
   "source": [
    "import llama as L"
   ]
  },
  {
   "cell_type": "code",
   "execution_count": 3,
   "id": "33e22d94",
   "metadata": {},
   "outputs": [
    {
     "name": "stdout",
     "output_type": "stream",
     "text": [
      "> initializing model parallel with size 1\n",
      "> initializing ddp with size 1\n",
      "> initializing pipeline with size 1\n",
      "/raid/mpsych/llama/weights/7B/7B/ [PosixPath('/raid/mpsych/llama/weights/7B/7B/consolidated.00.pth')]\n",
      "Loading\n",
      "Loaded in 7.02 seconds\n"
     ]
    }
   ],
   "source": [
    "q = L.Q()"
   ]
  },
  {
   "cell_type": "code",
   "execution_count": 4,
   "id": "10404c04",
   "metadata": {},
   "outputs": [
    {
     "data": {
      "text/plain": [
       "['UMass Boston is a 4-year public school in Boston, Massachusetts. UMass Boston is part of the University of Massachusetts system. It was originally a teacher’s college, and in 1965 became the first public university in the Boston area. UMass Boston offers a selection of bachelor’s degrees, graduate degrees, and certificate programs. Among its most popular majors are education, environmental studies, and social work.\\numass is a great school, and if you look for a school that challenges you and that you can make your own, this is a great choice. umass boston has incredible faculty and staff that are very supportive and always willing to help.']"
      ]
     },
     "execution_count": 4,
     "metadata": {},
     "output_type": "execute_result"
    }
   ],
   "source": [
    "q.ask('UMass Boston is a ')"
   ]
  },
  {
   "cell_type": "code",
   "execution_count": 5,
   "id": "f2a58607",
   "metadata": {},
   "outputs": [
    {
     "data": {
      "text/plain": [
       "['Daniel Haehn is a 23 year old from the U.K., who became a vegan at the age of 18 after watching the documentary ‘Earthlings’. He went on to study BSc. Human Nutrition and Dietetics at the University of Surrey, before graduating in 2018. He has completed an internship as a Nutrition and Health Coach at The Royal College of Physicians, London, and has volunteered at the Brighton Vegan Festival. He now works in an NHS hospital as a Dietetic Assistant, whilst studying for a Post-graduate Certificate in Dietetics.\\nHe is a plant-based food writer, social media influencer and health blogger. He regularly posts on his Instagram page, @danielhaehn and his YouTube channel, with the aim of encouraging others to adopt a vegan lifestyle. He hopes to help people to develop a healthy relationship with food and understand the importance of nutrition. He is interested in exploring all aspects of vegan nutrition and hopes to develop his skills as a vegan nutritionist.\\n“I believe veganism is an untapped resource for good']"
      ]
     },
     "execution_count": 5,
     "metadata": {},
     "output_type": "execute_result"
    }
   ],
   "source": [
    "q.ask('Daniel Haehn is a ')"
   ]
  },
  {
   "cell_type": "code",
   "execution_count": 6,
   "id": "1e25f14b",
   "metadata": {},
   "outputs": [
    {
     "data": {
      "text/plain": [
       "['Quantum AI is 20% cooler.\\nQuantum AI is 20% cooler. This is a very crude approximation of how much cooler quantum computers are than classical computers. In the simplest case, the only difference between a classical and a quantum computer is a quantum computer has more qubits than a classical computer. However, that’s not the whole story.\\nThe important thing to understand is how a quantum computer is different than a classical computer. The main difference is that quantum computers can use quantum bits (qubits) instead of bits. A qubit can hold both 0 and 1. You could think of it as a bit that can be either 0 or 1 or both at the same time. A quantum computer is just a computer made up of qubits instead of bits.\\nQuantum computers have a lot of useful features that make them better at solving problems than classical computers. The first is that quantum computers can solve problems that are infeasible for classical computers. This is a big deal because a lot of interesting problems are difficult to solve. For example, it’s infeasible to solve the traveling salesman problem with a classical computer. The second feature is that quantum computers are inherently parallel.']"
      ]
     },
     "execution_count": 6,
     "metadata": {},
     "output_type": "execute_result"
    }
   ],
   "source": [
    "q.ask('Quantum AI is ')"
   ]
  },
  {
   "cell_type": "code",
   "execution_count": 7,
   "id": "0058d1d3",
   "metadata": {},
   "outputs": [
    {
     "data": {
      "text/plain": [
       "['How to setup a linux computer:\\nI have been trying to set up a linux computer for quite some time, and I am finally beginning to understand it. This guide will show you how I have set up my computer and give you some guidelines for setting up your own linux computer.\\nBefore we begin, it is very important to understand the differences between a linux computer and a windows computer. The main difference is that windows is a program that is designed to be used by a user, whereas linux is a program designed to be used by a computer. So, for example, when you click on the start menu in windows, it means different things depending on what program you have selected. But in linux, it always means \"Open a program\", which is great because the programs are all grouped together in one menu.\\nAnother difference is that you have to be logged into the computer before it will do anything for you. This makes it a lot more secure, because you have to enter a password to start the computer. You can also configure different users, and set which programs they have access to.\\nA final difference is that linux is a lot more stable than windows. I have never had to reboot my computer while using linux, but I have had to reboot my computer multiple times when using']"
      ]
     },
     "execution_count": 7,
     "metadata": {},
     "output_type": "execute_result"
    }
   ],
   "source": [
    "q.ask('How to setup a linux computer:')"
   ]
  },
  {
   "cell_type": "code",
   "execution_count": 8,
   "id": "6f207820",
   "metadata": {},
   "outputs": [
    {
     "data": {
      "text/plain": [
       "['The weather today is dreadful, and so the idea of being stuck indoors for hours at the library seems even more bleak. I’m making the best of it, however, by staying home from school and getting a head start on reading for my senior project. I’m planning on interviewing an artist who specializes in the art of the doll and find out how dolls have changed the role of women in society through the ages. I’ve got a lot to do and the day is already over half way done, so I’m going to get to work.\\nHere is a poem I wrote a while back about being a writer. It’s from the perspective of the writer’s friend.\\nI watch you write, and I feel connected to you.\\nI feel like I’m part of your story, like I am the heroine.\\nI feel like you have created me for this purpose.\\nI watch you write, and I know I am special.\\nI know that you have taken your time with me.\\nI know that you have studied my every detail.\\nI know that your imagination has run wild.\\nI know that you have given me life.\\nI know that you love me.\\nI know']"
      ]
     },
     "execution_count": 8,
     "metadata": {},
     "output_type": "execute_result"
    }
   ],
   "source": [
    "q.ask('The weather today is')"
   ]
  },
  {
   "cell_type": "code",
   "execution_count": 9,
   "id": "68e2d65a",
   "metadata": {},
   "outputs": [
    {
     "data": {
      "text/plain": [
       "[\"I want to buy a car that is fast. I will buy 24-25+ cars if the price is okay.\\nI know it's impossible to buy 25 super fast cars, but I would like to have one of the fastest.\\nPlease share with me. Which car is the fastest?\\nIf you have a top speed of 300 km/h, you are faster than almost all cars in the world.\\nDon't waste your time and money on fast cars, just buy a house.\\nIf I was to buy a car, it would be a Lamborghini Countach or Ferrari F40.\\nI am going to buy a car that is fast. Please share with me.\"]"
      ]
     },
     "execution_count": 9,
     "metadata": {},
     "output_type": "execute_result"
    }
   ],
   "source": [
    "q.ask('I want to buy a car that is fast. I will buy ')"
   ]
  },
  {
   "cell_type": "code",
   "execution_count": 11,
   "id": "c0d43fc8",
   "metadata": {},
   "outputs": [
    {
     "data": {
      "text/plain": [
       "['I want to buy a car that is fast. I will buy 2018 BMW M4. I want to buy it because it is fast and it is a good car. I will buy it because it is fast and it is a good car. I will buy it because it is fast and it is a good car. I will buy it because it is fast and it is a good car. I will buy it because it is fast and it is a good car. I will buy it because it is fast and it is a good car. I will buy it because it is fast and it is a good car. I will buy it because it is fast and it is a good car. I will buy it because it is fast and it is a good car. I will buy it because it is fast and it is a good car. I will buy it because it is fast and it is a good car. I will buy it because it is fast and it is a good car. I will buy it because it is fast and it is a good car. I will buy it because it is fast and it is a good car. I will buy it because it is fast and it is a good car. I will buy it because it is fast and it is a good car. I will buy it because it']"
      ]
     },
     "execution_count": 11,
     "metadata": {},
     "output_type": "execute_result"
    }
   ],
   "source": [
    "q.ask('I want to buy a car that is fast. I will buy ', temperature=0.1)"
   ]
  },
  {
   "cell_type": "code",
   "execution_count": 12,
   "id": "5d711287",
   "metadata": {},
   "outputs": [
    {
     "data": {
      "text/plain": [
       "['I want to buy a car that is fast. I will buy 4X4 and ready for off road adventure. When you hear some familiar roar in the streets, be sure to know that you are in the presence of the Lamborghini Urus. On the outside, this crossover already has an aggressive shape. Compared to Aventador and Huracan, they have a large hood and sharp body lines. The grille also looks different. To make the crossover more than a sports coupe, they did not forget to equip the beast with ‘Lamborghini DNA’. The exterior is going to look more stylish thanks to the headlights design. Furthermore, the adaptive all-LED headlights also add to the coolness of the car.\\nTaking a look at the interior, you will find a center console that is ergonomically designed to provide comfort when using it. The fastest and fastest Lamborghini also offers the luxury of the Lamborghini h-pattern shifter. With the 12.3-inch digital instrument panel, Lamborghini Urus will become a digital assistant to the driver. Uniquely, this crossover is also supported with carbon']"
      ]
     },
     "execution_count": 12,
     "metadata": {},
     "output_type": "execute_result"
    }
   ],
   "source": [
    "q.ask('I want to buy a car that is fast. I will buy ', temperature=1.0)"
   ]
  },
  {
   "cell_type": "code",
   "execution_count": 13,
   "id": "b2f6ae51",
   "metadata": {},
   "outputs": [
    {
     "data": {
      "text/plain": [
       "[\"I want to buy a car that is fast. I will buy 2 of the same car so I can race each other. I have over $100000 to buy the car. I will race against you if you buy the same car as me.\\nMy idea for the game is to race against a player who has the same car as me.\\nYou should be able to click on the same car as the player and then when you click on that car there will be a new game window that opens up. The window will have the players name and the 2 cars name and then a screen will pop up that has a track and a start button.\\nThere will be a top speed meter and a lap meter. I don't know what I am going to do about lap times because I want 2 players to race each other and there will be a time limit on the race.\\nI will be using GameMaker to program the game.\\nI need help with the code and also how to make the game window.\\nI will be posting some of the code when I have it.\"]"
      ]
     },
     "execution_count": 13,
     "metadata": {},
     "output_type": "execute_result"
    }
   ],
   "source": [
    "q.ask('I want to buy a car that is fast. I will buy ', max_gen_len=1024)"
   ]
  },
  {
   "cell_type": "code",
   "execution_count": 14,
   "id": "4f83509a",
   "metadata": {},
   "outputs": [
    {
     "data": {
      "text/plain": [
       "[\"We should not be afraid of AI 12 July 2017\\nAs machines get more intelligent, the lines are becoming blurred between us and them. And we should embrace this, says the CIPR's director of policy\\nIn the wake of Stephen Hawking’s warnings about the dangers of artificial intelligence, and Elon Musk’s call to ban such technology, it is tempting to believe that machines are already at war with humans.\\nThis is not true, of course. But it is the way some technology companies would like to see things. It would suit them to have us believe that AI is a threat, in order to sell products.\\nBut the truth is that AI will not take over the world in the near future. It will not lead to the end of humanity – and nor should we be afraid of it.\\nIn fact, the real threat we face from AI is that it could lead to the end of the career of most PR professionals. The world is changing and AI will lead to changes in the way we work.\\nAI has already changed the world we live in. It has already helped us find things on the internet, make better decisions about what to eat, and even help us to find love.\\nIt has changed the way we shop, but also how we work, the way we communicate, and how we are entertained.\\nSo how will it change the way we do our job?\\nRobots are already working in our sector. They are used to automate simple tasks, such as the distribution of online news releases.\\nThey are already automating jobs in our sector, such as the distribution of online news releases\\nThey are able to collect information and use it to generate news stories. But they can’t do anything about the fake news epidemic – and they can’t do our job for us.\\nThere is a good chance that AI will be able to do a lot more in the near future. It will be able to use data to help us understand and tell the stories that matter to our clients.\\nIt could use algorithms to analyse vast amounts of data to find patterns, and maybe even help us to write a news story.\\nAI could help us to write a news story\\nIt could also help us to develop story ideas, helping us to understand what the public wants to hear about, and even help us to find the right person\"]"
      ]
     },
     "execution_count": 14,
     "metadata": {},
     "output_type": "execute_result"
    }
   ],
   "source": [
    "q.ask('We should not be afraid of AI ', max_gen_len=1024)"
   ]
  },
  {
   "cell_type": "code",
   "execution_count": 15,
   "id": "62af5534",
   "metadata": {},
   "outputs": [
    {
     "data": {
      "text/plain": [
       "['I am alive if 50. I have worked as a nurse and midwife for 27 years.\\nI have a passion for helping others and a desire to help women understand their bodies and how they function.\\nBesides working as a nurse I have also been a Doula and Hypnotherapist and have worked as a private midwife for over 12 years.\\nI have been involved in pregnancy education for over 20 years and love to share my passion for midwifery with others.\\nI believe that women are at the centre of their own midwifery care and that they have the right to make informed decisions.\\nI am married with two children and two grandchildren.\\nI enjoy spending time with my family and friends, walking, reading, cooking and gardening.\\nI am an avid dog lover and my dog is my constant companion.\\nI believe that everyone is unique and have a great love for women, babies and families. I am passionate about empowering women to have choices when it comes to their care.\\nI am a mum of three, grandmother to five and great grandmother to two.\\nI am a']"
      ]
     },
     "execution_count": 15,
     "metadata": {},
     "output_type": "execute_result"
    }
   ],
   "source": [
    "q.ask('I am alive if ')"
   ]
  },
  {
   "cell_type": "code",
   "execution_count": null,
   "id": "e8cb674b",
   "metadata": {},
   "outputs": [],
   "source": []
  }
 ],
 "metadata": {
  "kernelspec": {
   "display_name": "Python 3 (ipykernel)",
   "language": "python",
   "name": "python3"
  },
  "language_info": {
   "codemirror_mode": {
    "name": "ipython",
    "version": 3
   },
   "file_extension": ".py",
   "mimetype": "text/x-python",
   "name": "python",
   "nbconvert_exporter": "python",
   "pygments_lexer": "ipython3",
   "version": "3.10.9"
  }
 },
 "nbformat": 4,
 "nbformat_minor": 5
}
