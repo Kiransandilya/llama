{
 "cells": [
  {
   "cell_type": "code",
   "execution_count": 3,
   "id": "62672550",
   "metadata": {},
   "outputs": [],
   "source": [
    "import llama2 as L"
   ]
  },
  {
   "cell_type": "code",
   "execution_count": 1,
   "id": "601c03f3",
   "metadata": {},
   "outputs": [
    {
     "data": {
      "application/vnd.jupyter.widget-view+json": {
       "model_id": "2f1edcd681a74e99b3b70ad919362aea",
       "version_major": 2,
       "version_minor": 0
      },
      "text/plain": [
       "Loading checkpoint shards:   0%|          | 0/2 [00:00<?, ?it/s]"
      ]
     },
     "metadata": {},
     "output_type": "display_data"
    }
   ],
   "source": [
    "x = L.load(weight=\"7\") # enter 7,13,70"
   ]
  },
  {
   "cell_type": "code",
   "execution_count": 2,
   "id": "179d236a",
   "metadata": {},
   "outputs": [
    {
     "name": "stderr",
     "output_type": "stream",
     "text": [
      "/home/kiran.sandilya001/miniconda3/envs/llama/lib/python3.10/site-packages/transformers/generation/configuration_utils.py:362: UserWarning: `do_sample` is set to `False`. However, `temperature` is set to `0.5` -- this flag is only used in sample-based generation modes. You should set `do_sample=True` or unset `temperature`.\n",
      "  warnings.warn(\n",
      "The attention mask and the pad token id were not set. As a consequence, you may observe unexpected behavior. Please pass your input's `attention_mask` to obtain reliable results.\n",
      "Setting `pad_token_id` to `eos_token_id`:2 for open-end generation.\n"
     ]
    },
    {
     "name": "stdout",
     "output_type": "stream",
     "text": [
      "[\"tell me about programming languages\\n\\nProgramming languages are used to write software, apps, and other computer programs. They're like tools that tell a computer what to do and how to do it. Different programming languages are good for different things, and some are easier to learn than others. Here are some popular programming languages:\\n1. Python: Python is a versatile language that's easy to learn and can be used for a wide range of tasks, such as web development, data analysis, and machine learning.\\n2. Java: Java is a popular language used for building enterprise-level applications, Android apps, and web applications. It's known for its platform independence, meaning you can run Java code on any device that has a Java Virtual Machine (JVM) installed.\\n3. JavaScript: JavaScript is a language used for creating interactive web pages and web applications. It's the language of the web, and you'll find it used in most websites you visit.\\n4. C++: C++ is a high-performance language that's commonly used for building operating systems, games, and other high-performance applications. It's powerful but can be challenging to learn.\\n5. Ruby: Ruby is a language known for its simplicity and readability. It's often used for building web applications and scripts, and it has a large community of developers who contribute to its growth and development.\\nThese are just a few examples of the many programming languages out there. Each language has its own strengths and weaknesses, and the best language for a particular project depends on a variety of factors, such as the type of project, the level of complexity, and the preferences of the development team.\"]\n",
      "##############################\n"
     ]
    }
   ],
   "source": [
    "x.ask(\"tell me about programming\")\n",
    "print(\"#\" * 30)"
   ]
  },
  {
   "cell_type": "code",
   "execution_count": 4,
   "id": "bde6d57f",
   "metadata": {},
   "outputs": [
    {
     "name": "stderr",
     "output_type": "stream",
     "text": [
      "The attention mask and the pad token id were not set. As a consequence, you may observe unexpected behavior. Please pass your input's `attention_mask` to obtain reliable results.\n",
      "Setting `pad_token_id` to `eos_token_id`:2 for open-end generation.\n"
     ]
    },
    {
     "name": "stdout",
     "output_type": "stream",
     "text": [
      "['tell me about programming in bullet points and in 5 lines or less\\n\\nSure! Here are some key points about programming in bullet points and in 5 lines or less:\\n\\n* Programming involves writing code in a programming language to create software, apps, and other computer programs.\\n* Programmers use various programming languages such as Java, Python, C++, and JavaScript to write code.\\n* Programming involves problem-solving, logical thinking, and creativity.\\n* Programmers work on a wide range of projects, from games and mobile apps to operating systems and business software.']\n",
      "##############################\n"
     ]
    }
   ],
   "source": [
    "x.ask(\"tell me about programming in bullet points and in 5 lines\")\n",
    "print(\"#\" * 30)"
   ]
  },
  {
   "cell_type": "code",
   "execution_count": null,
   "id": "e1af7b9a",
   "metadata": {},
   "outputs": [],
   "source": []
  }
 ],
 "metadata": {
  "kernelspec": {
   "display_name": "Python 3 (ipykernel)",
   "language": "python",
   "name": "python3"
  },
  "language_info": {
   "codemirror_mode": {
    "name": "ipython",
    "version": 3
   },
   "file_extension": ".py",
   "mimetype": "text/x-python",
   "name": "python",
   "nbconvert_exporter": "python",
   "pygments_lexer": "ipython3",
   "version": "3.10.9"
  }
 },
 "nbformat": 4,
 "nbformat_minor": 5
}
