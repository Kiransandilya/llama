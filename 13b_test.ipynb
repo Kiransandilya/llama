{
 "cells": [
  {
   "cell_type": "code",
   "execution_count": 6,
   "id": "2889f186",
   "metadata": {},
   "outputs": [],
   "source": [
    "# import llama_functional_13b.py as Q\n",
    "# Q.ask()"
   ]
  },
  {
   "cell_type": "code",
   "execution_count": 3,
   "id": "bee2b129",
   "metadata": {},
   "outputs": [
    {
     "name": "stdout",
     "output_type": "stream",
     "text": [
      "Requirement already satisfied: transformers in /home/kiran.sandilya001/miniconda3/envs/llama/lib/python3.10/site-packages (4.32.0)\n",
      "Requirement already satisfied: numpy>=1.17 in /home/kiran.sandilya001/miniconda3/envs/llama/lib/python3.10/site-packages (from transformers) (1.24.2)\n",
      "Requirement already satisfied: huggingface-hub<1.0,>=0.15.1 in /home/kiran.sandilya001/.local/lib/python3.10/site-packages/huggingface_hub-0.16.4-py3.10.egg (from transformers) (0.16.4)\n",
      "Requirement already satisfied: pyyaml>=5.1 in /home/kiran.sandilya001/.local/lib/python3.10/site-packages/PyYAML-6.0.1-py3.10-linux-x86_64.egg (from transformers) (6.0.1)\n",
      "Requirement already satisfied: tokenizers!=0.11.3,<0.14,>=0.11.1 in /home/kiran.sandilya001/.local/lib/python3.10/site-packages/tokenizers-0.13.4rc2-py3.10-linux-x86_64.egg (from transformers) (0.13.4rc2)\n",
      "Requirement already satisfied: tqdm>=4.27 in /home/kiran.sandilya001/.local/lib/python3.10/site-packages/tqdm-4.66.1-py3.10.egg (from transformers) (4.66.1)\n",
      "Requirement already satisfied: safetensors>=0.3.1 in /home/kiran.sandilya001/.local/lib/python3.10/site-packages/safetensors-0.3.2-py3.10-linux-x86_64.egg (from transformers) (0.3.2)\n",
      "Requirement already satisfied: packaging>=20.0 in /home/kiran.sandilya001/miniconda3/envs/llama/lib/python3.10/site-packages (from transformers) (22.0)\n",
      "Requirement already satisfied: requests in /home/kiran.sandilya001/miniconda3/envs/llama/lib/python3.10/site-packages (from transformers) (2.28.1)\n",
      "Requirement already satisfied: regex!=2019.12.17 in /home/kiran.sandilya001/.local/lib/python3.10/site-packages/regex-2023.8.8-py3.10-linux-x86_64.egg (from transformers) (2023.8.8)\n",
      "Requirement already satisfied: filelock in /home/kiran.sandilya001/.local/lib/python3.10/site-packages/filelock-3.12.2-py3.10.egg (from transformers) (3.12.2)\n",
      "Requirement already satisfied: fsspec in /home/kiran.sandilya001/.local/lib/python3.10/site-packages/fsspec-2023.6.0-py3.10.egg (from huggingface-hub<1.0,>=0.15.1->transformers) (2023.6.0)\n",
      "Requirement already satisfied: typing-extensions>=3.7.4.3 in /home/kiran.sandilya001/miniconda3/envs/llama/lib/python3.10/site-packages (from huggingface-hub<1.0,>=0.15.1->transformers) (4.5.0)\n",
      "Requirement already satisfied: idna<4,>=2.5 in /home/kiran.sandilya001/miniconda3/envs/llama/lib/python3.10/site-packages (from requests->transformers) (3.4)\n",
      "Requirement already satisfied: certifi>=2017.4.17 in /home/kiran.sandilya001/miniconda3/envs/llama/lib/python3.10/site-packages (from requests->transformers) (2022.12.7)\n",
      "Requirement already satisfied: urllib3<1.27,>=1.21.1 in /home/kiran.sandilya001/miniconda3/envs/llama/lib/python3.10/site-packages (from requests->transformers) (1.26.14)\n",
      "Requirement already satisfied: charset-normalizer<3,>=2 in /home/kiran.sandilya001/miniconda3/envs/llama/lib/python3.10/site-packages (from requests->transformers) (2.0.4)\n"
     ]
    }
   ],
   "source": [
    "!pip install transformers"
   ]
  },
  {
   "cell_type": "code",
   "execution_count": 4,
   "id": "be7da469",
   "metadata": {},
   "outputs": [
    {
     "data": {
      "application/vnd.jupyter.widget-view+json": {
       "model_id": "127222029c7a4b69a25fdb3829c2f66b",
       "version_major": 2,
       "version_minor": 0
      },
      "text/plain": [
       "Loading checkpoint shards:   0%|          | 0/2 [00:00<?, ?it/s]"
      ]
     },
     "metadata": {},
     "output_type": "display_data"
    },
    {
     "data": {
      "application/vnd.jupyter.widget-view+json": {
       "model_id": "dea9c30dafed4ac0ae24d83a362797f2",
       "version_major": 2,
       "version_minor": 0
      },
      "text/plain": [
       "Loading checkpoint shards:   0%|          | 0/3 [00:00<?, ?it/s]"
      ]
     },
     "metadata": {},
     "output_type": "display_data"
    },
    {
     "data": {
      "application/vnd.jupyter.widget-view+json": {
       "model_id": "ea70ee4606e74d7f902798e4c69c3128",
       "version_major": 2,
       "version_minor": 0
      },
      "text/plain": [
       "Loading checkpoint shards:   0%|          | 0/15 [00:00<?, ?it/s]"
      ]
     },
     "metadata": {},
     "output_type": "display_data"
    }
   ],
   "source": [
    "from llamamodel import W07, W13, W70\n",
    "q = W07()\n",
    "p = W13()\n",
    "z = W70()\n",
    "#q.ask(\"tell me about some good programmign languages \")\n"
   ]
  },
  {
   "cell_type": "code",
   "execution_count": 5,
   "id": "c9c39953",
   "metadata": {},
   "outputs": [
    {
     "name": "stderr",
     "output_type": "stream",
     "text": [
      "/home/kiran.sandilya001/miniconda3/envs/llama/lib/python3.10/site-packages/transformers/generation/configuration_utils.py:362: UserWarning: `do_sample` is set to `False`. However, `temperature` is set to `0.5` -- this flag is only used in sample-based generation modes. You should set `do_sample=True` or unset `temperature`.\n",
      "  warnings.warn(\n",
      "The attention mask and the pad token id were not set. As a consequence, you may observe unexpected behavior. Please pass your input's `attention_mask` to obtain reliable results.\n",
      "Setting `pad_token_id` to `eos_token_id`:2 for open-end generation.\n"
     ]
    },
    {
     "name": "stdout",
     "output_type": "stream",
     "text": [
      "[\"what are some good programming languages for beginners?\\nThere are several programming languages that are well-suited for beginners. Here are some popular options:\\n\\n1. Python: Python is a high-level language that is easy to read and write, making it a great language for beginners. It has a simple syntax and is often used in introductory programming courses. Python is also a versatile language, meaning that it can be used for a wide range of applications, such as web development, data analysis, and machine learning.\\n2. JavaScript: JavaScript is a popular language for web development and is used by millions of websites around the world. It's a client-side language, which means that it runs on the user's web browser, rather than on the server. JavaScript is also used in mobile app development, game development, and server-side programming.\\n3. Scratch: Scratch is a visual programming language that is designed specifically for beginners, especially children. It uses a block-based syntax, where users can create programs by dragging and dropping blocks of code, rather than typing them out. Scratch is great for learning the basics of programming, such as loops, variables, and conditionals.\\n4. Ruby: Ruby is a high-level language that is known for its simplicity and readability. It's a great language for beginners who want to learn good coding practices and paradigms. Ruby is also used in web development and has a large community of developers who contribute to its ecosystem.\\n5. Swift: Swift is a relatively new language developed by Apple for developing iOS and macOS apps. It's designed to give developers more freedom to create powerful, modern apps with a clean and easy-to-read syntax. Swift is also open-source, which means that developers can contribute to its development and improvement.\\n6. Java: Java is an object-oriented language that is\"]\n"
     ]
    }
   ],
   "source": [
    "z.ask(\"what are some good programming languages\")\n"
   ]
  },
  {
   "cell_type": "code",
   "execution_count": 7,
   "id": "2f50d7dd",
   "metadata": {},
   "outputs": [
    {
     "name": "stderr",
     "output_type": "stream",
     "text": [
      "The attention mask and the pad token id were not set. As a consequence, you may observe unexpected behavior. Please pass your input's `attention_mask` to obtain reliable results.\n",
      "Setting `pad_token_id` to `eos_token_id`:2 for open-end generation.\n"
     ]
    },
    {
     "name": "stdout",
     "output_type": "stream",
     "text": [
      "[\"what are some good programming langauges\\nThread: what are some good programming langauges\\ni'm new to programming and i want to know what are some good programming languagesthat i can learn.\\nRe: what are some good programming langauges\\nOriginally Posted by killer2000\\nC, C++, Java, C Sharp (C#), Visual Basic.\\nThose are the ones I know. There are others, but I don't know them.\\nYou can learn all of them in a matter of months if you put your mind to it.\\nI would start with C, it's the basis of all programming languages.\\nThen move on to C++.\\nJava is good for web development.\\nC# is similar to Java, but more powerful.\\nVB is a good language for beginners, but not as powerful as the others.\"]\n"
     ]
    }
   ],
   "source": [
    "p.ask(\"what are some good programming langauges\")\n"
   ]
  },
  {
   "cell_type": "code",
   "execution_count": 8,
   "id": "cd6e4710",
   "metadata": {},
   "outputs": [
    {
     "name": "stderr",
     "output_type": "stream",
     "text": [
      "The attention mask and the pad token id were not set. As a consequence, you may observe unexpected behavior. Please pass your input's `attention_mask` to obtain reliable results.\n",
      "Setting `pad_token_id` to `eos_token_id`:2 for open-end generation.\n"
     ]
    },
    {
     "name": "stdout",
     "output_type": "stream",
     "text": [
      "['write a python program for hello world\\n====================================\\n\\nIn this exercise, you will write a Python program that prints \"Hello, World!\" to the console.\\n\\nInstructions\\n-------------\\n\\n1. Open a new file in your favorite text editor and save it with a `.py` extension (e.g. `hello_world.py`).\\n2. Write the following code in the file:\\n```\\nprint(\"Hello, World!\")\\n```\\n3. Save the file and run it using the Python interpreter (e.g. `python hello_world.py`).\\nWhat to Expect\\n---------------\\n\\nWhen you run the program, you should see the following output:\\n```\\nHello, World!\\n\\n```\\nConclusion\\n==========\\n\\nCongratulations! You have just written and run your first Python program. You have learned how to use the `print()` function to output text to the console. Keep practicing and experimenting with Python to learn more about this powerful programming language.']\n"
     ]
    }
   ],
   "source": [
    "q.ask(\"write a python program for hello world\")"
   ]
  },
  {
   "cell_type": "code",
   "execution_count": null,
   "id": "f1abc7b0",
   "metadata": {},
   "outputs": [],
   "source": []
  }
 ],
 "metadata": {
  "kernelspec": {
   "display_name": "Python 3 (ipykernel)",
   "language": "python",
   "name": "python3"
  },
  "language_info": {
   "codemirror_mode": {
    "name": "ipython",
    "version": 3
   },
   "file_extension": ".py",
   "mimetype": "text/x-python",
   "name": "python",
   "nbconvert_exporter": "python",
   "pygments_lexer": "ipython3",
   "version": "3.10.9"
  }
 },
 "nbformat": 4,
 "nbformat_minor": 5
}
